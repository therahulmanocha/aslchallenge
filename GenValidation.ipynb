{
 "cells": [
  {
   "cell_type": "code",
   "execution_count": 100,
   "metadata": {},
   "outputs": [],
   "source": [
    "# This Function creates a Validation set of Images from Training Images \n",
    "# Inputs : PATH : String : path to training set images\n",
    "#          OrigTrain : String: name of the original training directory ( Can't be train)\n",
    "#          Ratio    : Numeric:  Percentage of Training Set to be movied to Validation\n",
    "# Outputs : 'train' directory which is copied from OrigTrain directory\n",
    "#            'valid' directory, has the same directory structure as trainig and contains \n",
    "#                    randomly chosen samples from training set\n",
    "\n",
    "\n",
    "import os\n",
    "import glob\n",
    "import random\n",
    "import pandas as pd\n",
    "import shutil\n"
   ]
  },
  {
   "cell_type": "code",
   "execution_count": 101,
   "metadata": {},
   "outputs": [],
   "source": [
    "def create_train_val_dir(orig_train_dir,train_dir,val_dir):\n",
    " if os.path.exists(train_dir):\n",
    "    print(train_dir)\n",
    "    shutil.rmtree(train_dir, ignore_errors=True)\n",
    "\n",
    " shutil.copytree(orig_train_dir,train_dir)\n",
    "\n",
    " if os.path.exists(val_dir):\n",
    "    print(val_dir)\n",
    "    shutil.rmtree(val_dir,ignore_errors = True)\n",
    "\n",
    " os.makedirs(val_dir)\n"
   ]
  },
  {
   "cell_type": "code",
   "execution_count": 102,
   "metadata": {},
   "outputs": [],
   "source": [
    "def directory_mirror(originalPath, targetPath):\n",
    "    for root, subFolders, files in os.walk(originalPath):\n",
    "\n",
    "        newDir = os.path.join(targetPath, root[1+len(originalPath):])\n",
    "\n",
    "        # Make sure the path doesn't already exist\n",
    "        # or the function makedirs will throw an \n",
    "        # exception\n",
    "        if not os.path.exists(newDir):\n",
    "            os.makedirs(newDir)\n"
   ]
  },
  {
   "cell_type": "code",
   "execution_count": 103,
   "metadata": {},
   "outputs": [],
   "source": [
    "def gen_validation(PATH,orig_train_dir,Ratio = 10):\n",
    "  \n",
    "  orig_train_dir = f'{PATH}/{orig_train_dir}'\n",
    "  train_dir = f'{PATH}/train'\n",
    "  val_dir = f'{PATH}/valid'\n",
    "  create_train_val_dir(orig_train_dir,train_dir,val_dir)\n",
    "  directory_mirror(orig_train_dir,val_dir)\n",
    "  classnames = os.listdir(train_dir)\n",
    "  for i in range(len(classnames)):\n",
    "    if (os.path.isdir(f'{train_dir}/{classnames[i]}')):\n",
    "       flist = os.listdir(f'{train_dir}/{classnames[i]}')\n",
    "       NumSample = len(flist)\n",
    "       NumValid = round(NumSample * Ratio / 100)\n",
    "       flist_for_valid = random.sample(flist, NumValid)\n",
    "       for fname in flist_for_valid:\n",
    "            to_move = f'{train_dir}/{classnames[i]}/{fname}'\n",
    "            move_to = f'{val_dir}/{classnames[i]}/{fname}'\n",
    "            shutil.move(to_move,move_to)\n",
    "       \n"
   ]
  },
  {
   "cell_type": "code",
   "execution_count": 104,
   "metadata": {},
   "outputs": [
    {
     "name": "stdout",
     "output_type": "stream",
     "text": [
      "../grassknoted/asl-alphabet/train\n",
      "../grassknoted/asl-alphabet/valid\n"
     ]
    }
   ],
   "source": [
    "PATH = \"../grassknoted/asl-alphabet\"\n",
    "orig_train_dir = 'original_train'\n",
    "Ratio = 10 \n",
    "gen_validation(PATH,orig_train_dir,Ratio)"
   ]
  },
  {
   "cell_type": "code",
   "execution_count": null,
   "metadata": {},
   "outputs": [],
   "source": []
  }
 ],
 "metadata": {
  "kernelspec": {
   "display_name": "Python 3",
   "language": "python",
   "name": "python3"
  },
  "language_info": {
   "codemirror_mode": {
    "name": "ipython",
    "version": 3
   },
   "file_extension": ".py",
   "mimetype": "text/x-python",
   "name": "python",
   "nbconvert_exporter": "python",
   "pygments_lexer": "ipython3",
   "version": "3.6.6"
  }
 },
 "nbformat": 4,
 "nbformat_minor": 2
}
